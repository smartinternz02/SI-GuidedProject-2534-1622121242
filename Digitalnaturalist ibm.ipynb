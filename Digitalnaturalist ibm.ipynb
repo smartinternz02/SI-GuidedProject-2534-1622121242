{
 "cells": [
  {
   "cell_type": "code",
   "execution_count": 1,
   "metadata": {},
   "outputs": [
    {
     "name": "stdout",
     "output_type": "stream",
     "text": [
      "Collecting watson-machine-learning-client\n",
      "  Downloading watson_machine_learning_client-1.0.391-py3-none-any.whl (538 kB)\n",
      "Collecting boto3\n",
      "  Downloading boto3-1.17.86-py2.py3-none-any.whl (131 kB)\n",
      "Requirement already satisfied: certifi in c:\\users\\badrinath\\anaconda3\\lib\\site-packages (from watson-machine-learning-client) (2020.12.5)\n",
      "Requirement already satisfied: tqdm in c:\\users\\badrinath\\anaconda3\\lib\\site-packages (from watson-machine-learning-client) (4.32.1)\n",
      "Requirement already satisfied: urllib3 in c:\\users\\badrinath\\anaconda3\\lib\\site-packages (from watson-machine-learning-client) (1.24.2)\n",
      "Collecting tabulate\n",
      "  Downloading tabulate-0.8.9-py3-none-any.whl (25 kB)\n",
      "Collecting lomond\n",
      "  Downloading lomond-0.3.3-py2.py3-none-any.whl (35 kB)\n",
      "Requirement already satisfied: pandas in c:\\users\\badrinath\\anaconda3\\lib\\site-packages (from watson-machine-learning-client) (0.24.2)\n",
      "Collecting ibm-cos-sdk\n",
      "  Downloading ibm-cos-sdk-2.10.0.tar.gz (52 kB)\n",
      "Requirement already satisfied: requests in c:\\users\\badrinath\\anaconda3\\lib\\site-packages (from watson-machine-learning-client) (2.22.0)\n",
      "Collecting jmespath<1.0.0,>=0.7.1\n",
      "  Downloading jmespath-0.10.0-py2.py3-none-any.whl (24 kB)\n",
      "Collecting s3transfer<0.5.0,>=0.4.0\n",
      "  Downloading s3transfer-0.4.2-py2.py3-none-any.whl (79 kB)\n",
      "Collecting botocore<1.21.0,>=1.20.86\n",
      "  Downloading botocore-1.20.86-py2.py3-none-any.whl (7.6 MB)\n",
      "Collecting urllib3\n",
      "  Downloading urllib3-1.26.5-py2.py3-none-any.whl (138 kB)\n",
      "Requirement already satisfied: python-dateutil<3.0.0,>=2.1 in c:\\users\\badrinath\\anaconda3\\lib\\site-packages (from botocore<1.21.0,>=1.20.86->boto3->watson-machine-learning-client) (2.8.0)\n",
      "Requirement already satisfied: six>=1.5 in c:\\users\\badrinath\\anaconda3\\lib\\site-packages (from python-dateutil<3.0.0,>=2.1->botocore<1.21.0,>=1.20.86->boto3->watson-machine-learning-client) (1.15.0)\n",
      "Collecting ibm-cos-sdk-core==2.10.0\n",
      "  Downloading ibm-cos-sdk-core-2.10.0.tar.gz (888 kB)\n",
      "Collecting ibm-cos-sdk-s3transfer==2.10.0\n",
      "  Downloading ibm-cos-sdk-s3transfer-2.10.0.tar.gz (133 kB)\n",
      "Requirement already satisfied: idna<2.9,>=2.5 in c:\\users\\badrinath\\anaconda3\\lib\\site-packages (from requests->watson-machine-learning-client) (2.8)\n",
      "Collecting urllib3\n",
      "  Downloading urllib3-1.25.11-py2.py3-none-any.whl (127 kB)\n",
      "Requirement already satisfied: chardet<3.1.0,>=3.0.2 in c:\\users\\badrinath\\anaconda3\\lib\\site-packages (from requests->watson-machine-learning-client) (3.0.4)\n",
      "Requirement already satisfied: pytz>=2011k in c:\\users\\badrinath\\anaconda3\\lib\\site-packages (from pandas->watson-machine-learning-client) (2019.1)\n",
      "Requirement already satisfied: numpy>=1.12.0 in c:\\users\\badrinath\\anaconda3\\lib\\site-packages (from pandas->watson-machine-learning-client) (1.19.5)\n",
      "Building wheels for collected packages: ibm-cos-sdk, ibm-cos-sdk-core, ibm-cos-sdk-s3transfer\n",
      "  Building wheel for ibm-cos-sdk (setup.py): started\n",
      "  Building wheel for ibm-cos-sdk (setup.py): finished with status 'done'\n",
      "  Created wheel for ibm-cos-sdk: filename=ibm_cos_sdk-2.10.0-py2.py3-none-any.whl size=73424 sha256=80ba69aea79cd331f6ed9e6cd70861fa4010a9eff9257b41b10b74d8ba73447f\n",
      "  Stored in directory: c:\\users\\badrinath\\appdata\\local\\pip\\cache\\wheels\\98\\e5\\79\\c9357a90a17449375e4e19ad55fd68810c0d1bf8393cd90c11\n",
      "  Building wheel for ibm-cos-sdk-core (setup.py): started\n",
      "  Building wheel for ibm-cos-sdk-core (setup.py): finished with status 'done'\n",
      "  Created wheel for ibm-cos-sdk-core: filename=ibm_cos_sdk_core-2.10.0-py2.py3-none-any.whl size=526045 sha256=04d6fa6367141379465ba7e1ce3b54696bfae2aed269b118afc204a06a44f5c9\n",
      "  Stored in directory: c:\\users\\badrinath\\appdata\\local\\pip\\cache\\wheels\\d6\\80\\75\\a0e201094d0979c175abb643576a6fac462dc09c33ae9eb49a\n",
      "  Building wheel for ibm-cos-sdk-s3transfer (setup.py): started\n",
      "  Building wheel for ibm-cos-sdk-s3transfer (setup.py): finished with status 'done'\n",
      "  Created wheel for ibm-cos-sdk-s3transfer: filename=ibm_cos_sdk_s3transfer-2.10.0-py2.py3-none-any.whl size=88635 sha256=acbcec4d334fe698d4ba19e7988da467cec78cba7b3fefcc569cd874cddbe8bc\n",
      "  Stored in directory: c:\\users\\badrinath\\appdata\\local\\pip\\cache\\wheels\\ab\\ee\\ee\\88daffc4f825c45dd6f3d0db3c0d1a05b950bf23ec2bc300a2\n",
      "Successfully built ibm-cos-sdk ibm-cos-sdk-core ibm-cos-sdk-s3transfer\n",
      "Installing collected packages: urllib3, jmespath, ibm-cos-sdk-core, botocore, s3transfer, ibm-cos-sdk-s3transfer, tabulate, lomond, ibm-cos-sdk, boto3, watson-machine-learning-client\n",
      "  Attempting uninstall: urllib3\n",
      "    Found existing installation: urllib3 1.24.2\n",
      "    Uninstalling urllib3-1.24.2:\n",
      "      Successfully uninstalled urllib3-1.24.2\n",
      "Successfully installed boto3-1.17.86 botocore-1.20.86 ibm-cos-sdk-2.10.0 ibm-cos-sdk-core-2.10.0 ibm-cos-sdk-s3transfer-2.10.0 jmespath-0.10.0 lomond-0.3.3 s3transfer-0.4.2 tabulate-0.8.9 urllib3-1.25.11 watson-machine-learning-client-1.0.391\n"
     ]
    },
    {
     "name": "stderr",
     "output_type": "stream",
     "text": [
      "WARNING: Ignoring invalid distribution -umpy (c:\\users\\badrinath\\anaconda3\\lib\\site-packages)\n",
      "WARNING: Ignoring invalid distribution -umpy (c:\\users\\badrinath\\anaconda3\\lib\\site-packages)\n",
      "WARNING: Ignoring invalid distribution -umpy (c:\\users\\badrinath\\anaconda3\\lib\\site-packages)\n",
      "    WARNING: Ignoring invalid distribution -umpy (c:\\users\\badrinath\\anaconda3\\lib\\site-packages)\n",
      "WARNING: Ignoring invalid distribution -umpy (c:\\users\\badrinath\\anaconda3\\lib\\site-packages)\n",
      "WARNING: Ignoring invalid distribution -umpy (c:\\users\\badrinath\\anaconda3\\lib\\site-packages)\n",
      "WARNING: Ignoring invalid distribution -umpy (c:\\users\\badrinath\\anaconda3\\lib\\site-packages)\n",
      "WARNING: Ignoring invalid distribution -umpy (c:\\users\\badrinath\\anaconda3\\lib\\site-packages)\n",
      "WARNING: Ignoring invalid distribution -umpy (c:\\users\\badrinath\\anaconda3\\lib\\site-packages)\n",
      "WARNING: Ignoring invalid distribution -umpy (c:\\users\\badrinath\\anaconda3\\lib\\site-packages)\n",
      "WARNING: Ignoring invalid distribution -umpy (c:\\users\\badrinath\\anaconda3\\lib\\site-packages)\n",
      "WARNING: Ignoring invalid distribution -umpy (c:\\users\\badrinath\\anaconda3\\lib\\site-packages)\n",
      "WARNING: Ignoring invalid distribution -umpy (c:\\users\\badrinath\\anaconda3\\lib\\site-packages)\n",
      "WARNING: Ignoring invalid distribution -umpy (c:\\users\\badrinath\\anaconda3\\lib\\site-packages)\n",
      "WARNING: Ignoring invalid distribution -umpy (c:\\users\\badrinath\\anaconda3\\lib\\site-packages)\n",
      "ERROR: pip's dependency resolver does not currently take into account all the packages that are installed. This behaviour is the source of the following dependency conflicts.\n",
      "conda 4.10.1 requires ruamel_yaml_conda>=0.11.14, which is not installed.\n",
      "WARNING: Ignoring invalid distribution -umpy (c:\\users\\badrinath\\anaconda3\\lib\\site-packages)\n",
      "WARNING: Ignoring invalid distribution -umpy (c:\\users\\badrinath\\anaconda3\\lib\\site-packages)\n"
     ]
    }
   ],
   "source": [
    "!pip install watson-machine-learning-client"
   ]
  },
  {
   "cell_type": "code",
   "execution_count": 3,
   "metadata": {},
   "outputs": [
    {
     "name": "stderr",
     "output_type": "stream",
     "text": [
      "C:\\Users\\Badrinath\\Anaconda3\\lib\\site-packages\\sklearn\\externals\\joblib\\__init__.py:15: DeprecationWarning: sklearn.externals.joblib is deprecated in 0.21 and will be removed in 0.23. Please import this functionality directly from joblib, which can be installed with: pip install joblib. If this warning is raised when loading pickled models, you may need to re-serialize those models with scikit-learn 0.21+.\n",
      "  warnings.warn(msg, category=DeprecationWarning)\n"
     ]
    }
   ],
   "source": [
    "from ibm_watson_machine_learning import APIClient\n",
    "wml_credentials = {\"url\":\"https://us-south.ml.cloud.ibm.com\",\n",
    "                  \"apikey\":\"aVy-V3KWVU_RPrKuRZnBP-HSgP6Q2r55QjIc-xu40w0r\"}\n",
    "client = APIClient(wml_credentials)"
   ]
  },
  {
   "cell_type": "code",
   "execution_count": 4,
   "metadata": {},
   "outputs": [],
   "source": [
    "client = APIClient(wml_credentials)"
   ]
  },
  {
   "cell_type": "code",
   "execution_count": 5,
   "metadata": {},
   "outputs": [],
   "source": [
    "def guid_from_space_name(client, space_name):\n",
    "    space = client.spaces.get_details()\n",
    "    return(next(item for item in space[\"resources\"] if item[\"entity\"][\"name\"]==space_name)[\"metadata\"][\"id\"])\n"
   ]
  },
  {
   "cell_type": "code",
   "execution_count": 6,
   "metadata": {},
   "outputs": [
    {
     "name": "stdout",
     "output_type": "stream",
     "text": [
      "Space UID =9b639e75-8bd3-4a3b-8639-f683a61e222e\n"
     ]
    }
   ],
   "source": [
    "space_uid = guid_from_space_name(client,\"digitalnaturalist\")\n",
    "print(\"Space UID =\"+space_uid)"
   ]
  },
  {
   "cell_type": "code",
   "execution_count": 7,
   "metadata": {},
   "outputs": [
    {
     "data": {
      "text/plain": [
       "'SUCCESS'"
      ]
     },
     "execution_count": 7,
     "metadata": {},
     "output_type": "execute_result"
    }
   ],
   "source": [
    "client.set.default_space(space_uid)"
   ]
  },
  {
   "cell_type": "code",
   "execution_count": 10,
   "metadata": {},
   "outputs": [
    {
     "name": "stdout",
     "output_type": "stream",
     "text": [
      "Successfully saved model content to file: 'dnproject.tar.gz'\n"
     ]
    },
    {
     "data": {
      "text/plain": [
       "'C:\\\\externship/dnproject.tar.gz'"
      ]
     },
     "execution_count": 10,
     "metadata": {},
     "output_type": "execute_result"
    }
   ],
   "source": [
    "client.repository.download(\"2642a748-ad89-4620-85f0-78b04e4911d1\",\"dnproject.tar.gz\")"
   ]
  },
  {
   "cell_type": "code",
   "execution_count": null,
   "metadata": {},
   "outputs": [],
   "source": []
  }
 ],
 "metadata": {
  "kernelspec": {
   "display_name": "Python 3",
   "language": "python",
   "name": "python3"
  },
  "language_info": {
   "codemirror_mode": {
    "name": "ipython",
    "version": 3
   },
   "file_extension": ".py",
   "mimetype": "text/x-python",
   "name": "python",
   "nbconvert_exporter": "python",
   "pygments_lexer": "ipython3",
   "version": "3.7.3"
  }
 },
 "nbformat": 4,
 "nbformat_minor": 2
}
